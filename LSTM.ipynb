{
 "cells": [
  {
   "cell_type": "code",
   "execution_count": 43,
   "metadata": {},
   "outputs": [],
   "source": [
    "import torch\n",
    "from torch import nn\n",
    "import torchvision.datasets as dsets\n",
    "import torchvision.transforms as transforms\n",
    "import matplotlib.pyplot as plt\n",
    "torch.manual_seed(1)    # reproducible\n",
    "\n",
    "# Hyper Parameters\n",
    "EPOCH = 3               # train the training data n times, to save time, we just train 1 epoch\n",
    "BATCH_SIZE = 64\n",
    "TIME_STEP = 28          # rnn time step / image height\n",
    "INPUT_SIZE = 28         # rnn input size / image width\n",
    "LR = 0.01               # learning rate\n",
    "DOWNLOAD_MNIST = True   # set to True if haven't download the data\n",
    "\n",
    "train_data = dsets.MNIST(\n",
    "    root='./mnist/',\n",
    "    train=True,                         # this is training data\n",
    "    transform=transforms.ToTensor(),    # Converts a PIL.Image or numpy.ndarray to\n",
    "                                        # torch.FloatTensor of shape (C x H x W) and normalize in the range [0.0, 1.0]\n",
    "    download=DOWNLOAD_MNIST,            # download it if you don't have it\n",
    ")"
   ]
  },
  {
   "cell_type": "code",
   "execution_count": 44,
   "metadata": {},
   "outputs": [
    {
     "name": "stdout",
     "output_type": "stream",
     "text": [
      "torch.Size([60000, 28, 28])\n",
      "torch.Size([60000])\n"
     ]
    },
    {
     "data": {
      "image/png": "[encoded data removed]",
      "text/plain": [
       "<Figure size 432x288 with 1 Axes>"
      ]
     },
     "metadata": {},
     "output_type": "display_data"
    }
   ],
   "source": [
    "print(train_data.train_data.size())     # (60000, 28, 28)\n",
    "print(train_data.train_labels.size())   # (60000)\n",
    "plt.imshow(train_data.train_data[0].numpy(), cmap='gray')\n",
    "plt.title('%i' % train_data.train_labels[0])\n",
    "plt.show()\n"
   ]
  },
  {
   "cell_type": "code",
   "execution_count": 45,
   "metadata": {},
   "outputs": [],
   "source": [
    "# Data Loader for easy mini-batch return in training\n",
    "train_loader = torch.utils.data.DataLoader(dataset=train_data, batch_size=BATCH_SIZE, shuffle=True)\n",
    "\n",
    "# convert test data into Variable, pick 2000 samples to speed up testing\n",
    "test_data = dsets.MNIST(root='./mnist/', train=False, transform=transforms.ToTensor())\n",
    "test_x = test_data.test_data.type(torch.FloatTensor)/255.   # shape (2000, 28, 28) value in range(0,1)\n",
    "test_y = test_data.test_labels.numpy().squeeze()   # covert to numpy array"
   ]
  },
  {
   "cell_type": "code",
   "execution_count": 46,
   "metadata": {},
   "outputs": [
    {
     "name": "stdout",
     "output_type": "stream",
     "text": [
      "RNN(\n",
      "  (rnn): LSTM(28, 64, num_layers=2, batch_first=True, dropout=0.25, bidirectional=True)\n",
      "  (out): Linear(in_features=128, out_features=10, bias=True)\n",
      ")\n"
     ]
    }
   ],
   "source": [
    "class RNN(nn.Module):\n",
    "    def __init__(self):\n",
    "        super(RNN, self).__init__()\n",
    "\n",
    "        self.rnn = nn.LSTM(         # if use nn.RNN(), it hardly learns\n",
    "            input_size=INPUT_SIZE,\n",
    "            hidden_size=64,         # rnn hidden unit\n",
    "            num_layers=2,           # number of rnn layer\n",
    "            batch_first=True,       # input & output will has batch size as 1s dimension. e.g. (batch, time_step, input_size)\n",
    "            bidirectional=True,\n",
    "            dropout=0.25\n",
    "        )\n",
    "\n",
    "        self.out = nn.Linear(64*2, 10)\n",
    "        for name, param in self.rnn.named_parameters():\n",
    "            if 'bias' in name:\n",
    "                torch.nn.init.constant_(param, 0.0)\n",
    "            elif 'weight' in name:\n",
    "                torch.nn.init.xavier_normal_(param)\n",
    "        for name, param in self.out.named_parameters():\n",
    "            if 'bias' in name:\n",
    "                torch.nn.init.constant_(param, 0.0)\n",
    "            elif 'weight' in name:\n",
    "                torch.nn.init.xavier_normal_(param)\n",
    "\n",
    "    def forward(self, x):\n",
    "        # x shape (batch, time_step, input_size)\n",
    "        # r_out shape (batch, time_step, output_size)\n",
    "        # h_n shape (n_layers, batch, hidden_size)\n",
    "        # h_c shape (n_layers, batch, hidden_size)\n",
    "        r_out, (h_n, h_c) = self.rnn(x, None)   # None represents zero initial hidden state\n",
    "\n",
    "        # choose r_out at the last time step\n",
    "        out = self.out(r_out[:, -1, :])\n",
    "        return out\n",
    "\n",
    "\n",
    "rnn = RNN()\n",
    "print(rnn)"
   ]
  },
  {
   "cell_type": "code",
   "execution_count": 47,
   "metadata": {},
   "outputs": [
    {
     "name": "stdout",
     "output_type": "stream",
     "text": [
      "Epoch: 0| train loss: 2.3054| test accuracy: 0.10\n",
      "Epoch: 0| train loss: 1.1164| test accuracy: 0.61\n",
      "Epoch: 0| train loss: 0.6358| test accuracy: 0.77\n",
      "Epoch: 0| train loss: 0.1944| test accuracy: 0.88\n",
      "Epoch: 0| train loss: 0.4495| test accuracy: 0.88\n",
      "Epoch: 0| train loss: 0.2164| test accuracy: 0.91\n",
      "Epoch: 0| train loss: 0.1883| test accuracy: 0.92\n",
      "Epoch: 0| train loss: 0.0682| test accuracy: 0.93\n",
      "Epoch: 0| train loss: 0.1880| test accuracy: 0.94\n",
      "Epoch: 0| train loss: 0.2065| test accuracy: 0.94\n",
      "Epoch: 0| train loss: 0.2280| test accuracy: 0.94\n",
      "Epoch: 0| train loss: 0.2187| test accuracy: 0.95\n",
      "Epoch: 0| train loss: 0.1469| test accuracy: 0.95\n",
      "Epoch: 0| train loss: 0.2506| test accuracy: 0.96\n",
      "Epoch: 0| train loss: 0.0818| test accuracy: 0.96\n",
      "Epoch: 0| train loss: 0.2333| test accuracy: 0.96\n",
      "Epoch: 0| train loss: 0.1479| test accuracy: 0.96\n",
      "Epoch: 0| train loss: 0.2440| test accuracy: 0.96\n",
      "Epoch: 0| train loss: 0.1546| test accuracy: 0.96\n",
      "Epoch: 1| train loss: 0.0908| test accuracy: 0.97\n",
      "Epoch: 1| train loss: 0.0945| test accuracy: 0.96\n",
      "Epoch: 1| train loss: 0.0389| test accuracy: 0.96\n",
      "Epoch: 1| train loss: 0.0499| test accuracy: 0.97\n",
      "Epoch: 1| train loss: 0.0797| test accuracy: 0.97\n",
      "Epoch: 1| train loss: 0.1108| test accuracy: 0.97\n",
      "Epoch: 1| train loss: 0.0733| test accuracy: 0.97\n",
      "Epoch: 1| train loss: 0.1900| test accuracy: 0.97\n",
      "Epoch: 1| train loss: 0.0967| test accuracy: 0.96\n",
      "Epoch: 1| train loss: 0.1822| test accuracy: 0.97\n",
      "Epoch: 1| train loss: 0.0404| test accuracy: 0.97\n",
      "Epoch: 1| train loss: 0.2708| test accuracy: 0.97\n",
      "Epoch: 1| train loss: 0.1078| test accuracy: 0.97\n",
      "Epoch: 1| train loss: 0.1424| test accuracy: 0.97\n",
      "Epoch: 1| train loss: 0.3230| test accuracy: 0.96\n",
      "Epoch: 1| train loss: 0.0576| test accuracy: 0.97\n",
      "Epoch: 1| train loss: 0.1054| test accuracy: 0.96\n",
      "Epoch: 1| train loss: 0.1044| test accuracy: 0.97\n",
      "Epoch: 1| train loss: 0.0744| test accuracy: 0.97\n",
      "Epoch: 2| train loss: 0.1685| test accuracy: 0.96\n",
      "Epoch: 2| train loss: 0.0650| test accuracy: 0.96\n",
      "Epoch: 2| train loss: 0.0303| test accuracy: 0.97\n",
      "Epoch: 2| train loss: 0.0341| test accuracy: 0.97\n",
      "Epoch: 2| train loss: 0.0333| test accuracy: 0.96\n",
      "Epoch: 2| train loss: 0.0223| test accuracy: 0.97\n",
      "Epoch: 2| train loss: 0.0868| test accuracy: 0.96\n",
      "Epoch: 2| train loss: 0.0178| test accuracy: 0.97\n",
      "Epoch: 2| train loss: 0.0420| test accuracy: 0.98\n",
      "Epoch: 2| train loss: 0.0712| test accuracy: 0.97\n",
      "Epoch: 2| train loss: 0.1022| test accuracy: 0.97\n",
      "Epoch: 2| train loss: 0.0573| test accuracy: 0.98\n",
      "Epoch: 2| train loss: 0.0790| test accuracy: 0.97\n",
      "Epoch: 2| train loss: 0.1563| test accuracy: 0.98\n",
      "Epoch: 2| train loss: 0.0144| test accuracy: 0.98\n",
      "Epoch: 2| train loss: 0.1059| test accuracy: 0.97\n",
      "Epoch: 2| train loss: 0.0253| test accuracy: 0.97\n",
      "Epoch: 2| train loss: 0.0867| test accuracy: 0.98\n",
      "Epoch: 2| train loss: 0.0776| test accuracy: 0.97\n"
     ]
    }
   ],
   "source": [
    "optimizer = torch.optim.Adam(rnn.parameters(), lr=LR)   # optimize all cnn parameters\n",
    "loss_func = nn.CrossEntropyLoss()                       # the target label is not one-hotted\n",
    "\n",
    "# training and testing\n",
    "for epoch in range(EPOCH):\n",
    "    for step, (b_x, b_y) in enumerate(train_loader):        # gives batch data\n",
    "        b_x = b_x.view(-1, 28, 28)              # reshape x to (batch, time_step, input_size)\n",
    "\n",
    "        output = rnn(b_x)                               # rnn output\n",
    "        loss = loss_func(output, b_y)                   # cross entropy loss\n",
    "        optimizer.zero_grad()                           # clear gradients for this training step\n",
    "        loss.backward()                                 # backpropagation, compute gradients\n",
    "        optimizer.step()                                # apply gradients\n",
    "\n",
    "        if step % 50 == 0:\n",
    "            test_output = rnn(test_x)                   # (samples, time_step, input_size)\n",
    "            pred_y = torch.max(test_output, 1)[1].data.numpy().squeeze()\n",
    "            accuracy = float(sum(pred_y == test_y)) / float(test_y.size)\n",
    "            print('Epoch: %d' % epoch + '| train loss: %.4f' % loss.data.numpy() + '| test accuracy: %.2f' % accuracy)"
   ]
  },
  {
   "cell_type": "code",
   "execution_count": 48,
   "metadata": {},
   "outputs": [
    {
     "name": "stdout",
     "output_type": "stream",
     "text": [
      "0.9764\n"
     ]
    }
   ],
   "source": [
    "test_output = rnn(test_x.view(-1, 28, 28))\n",
    "pred_y = torch.max(test_output, 1)[1].data.numpy().squeeze()\n",
    "print(float(sum(pred_y == test_y)) / float(test_y.size))"
   ]
  },
  {
   "cell_type": "code",
   "execution_count": 49,
   "metadata": {},
   "outputs": [
    {
     "data": {
      "text/plain": [
       "array([7, 2, 1, 0, 4, 1, 4, 9, 5, 9])"
      ]
     },
     "execution_count": 49,
     "metadata": {},
     "output_type": "execute_result"
    }
   ],
   "source": [
    "pred_y[:10]"
   ]
  },
  {
   "cell_type": "code",
   "execution_count": 50,
   "metadata": {},
   "outputs": [
    {
     "data": {
      "text/plain": [
       "array([7, 2, 1, 0, 4, 1, 4, 9, 5, 9])"
      ]
     },
     "execution_count": 50,
     "metadata": {},
     "output_type": "execute_result"
    }
   ],
   "source": [
    "test_y[:10]"
   ]
  },
  {
   "cell_type": "code",
   "execution_count": null,
   "metadata": {},
   "outputs": [],
   "source": []
  }
 ],
 "metadata": {
  "kernelspec": {
   "display_name": "Python 2",
   "language": "python",
   "name": "python2"
  },
  "language_info": {
   "codemirror_mode": {
    "name": "ipython",
    "version": 2
   },
   "file_extension": ".py",
   "mimetype": "text/x-python",
   "name": "python",
   "nbconvert_exporter": "python",
   "pygments_lexer": "ipython2",
   "version": "2.7.15"
  }
 },
 "nbformat": 4,
 "nbformat_minor": 2
}
